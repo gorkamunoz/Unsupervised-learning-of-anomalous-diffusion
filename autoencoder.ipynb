{
 "cells": [
  {
   "cell_type": "markdown",
   "metadata": {},
   "source": [
    "<h3>Machine Learning for Diffusion</h3>"
   ]
  },
  {
   "cell_type": "markdown",
   "metadata": {},
   "source": [
    "This notebook was developed in order to train autoencoder models to study anomalous diffusion with unsupervised learning. This repo supports creating/loading existing autoencoder models and the necessary data sets to train them. Here we will go through an example of how to use this part of the repository.\n",
    "\n",
    "We will generate diffusion trajectories using code from the github repository AnDi challenge by Gorka Muñoz-Gil. With AnDi it is possible to generate trajectories in 1D, 2D and 3D from the following diffusion models: annealed transit time model (**ATTM**), continuous time random walks (**CTRW**), fractional brownian motion (**FBM**), Lévy walks (**LW**) and scaled brownian motion (**SBM**). **In this notebook we will only work with trajectories in 1D**. For more information about AnDi go to https://github.com/AnDiChallenge/ANDI_datasets."
   ]
  },
  {
   "cell_type": "markdown",
   "metadata": {},
   "source": [
    "<h3>Create/Load ANDI dataset</h3>"
   ]
  },
  {
   "cell_type": "markdown",
   "metadata": {},
   "source": [
    "First, we need to import AnDi and all the necessary libraries to generate the trajectores."
   ]
  },
  {
   "cell_type": "code",
   "execution_count": 1,
   "metadata": {},
   "outputs": [],
   "source": [
    "import numpy as np\n",
    "import andi"
   ]
  },
  {
   "cell_type": "markdown",
   "metadata": {},
   "source": [
    "We start by generating an andi object"
   ]
  },
  {
   "cell_type": "code",
   "execution_count": 2,
   "metadata": {},
   "outputs": [],
   "source": [
    "ANDI = andi.andi_datasets()"
   ]
  },
  {
   "cell_type": "markdown",
   "metadata": {},
   "source": [
    "andi has a built-in method that displays the anomalous diffusion models available:"
   ]
  },
  {
   "cell_type": "code",
   "execution_count": 3,
   "metadata": {},
   "outputs": [
    {
     "data": {
      "text/plain": [
       "['attm', 'ctrw', 'fbm', 'lw', 'sbm']"
      ]
     },
     "execution_count": 3,
     "metadata": {},
     "output_type": "execute_result"
    }
   ],
   "source": [
    "ANDI.avail_models_name"
   ]
  },
  {
   "cell_type": "markdown",
   "metadata": {},
   "source": [
    "Now we need to specify the parameters that will be used to generate the trajectories. Here ***timesteps*** defines the length of the trajectories, ***N_trainset*** the size (number of trajectories) of the training set and ***N_testset*** the size of the test set. ***exponents*** defines the anomalous exponent of the trajectories, and its value is a list containing the values of the desired anomalous exponents. ***diffusion_models*** is a list with values ranging from 0 to 4 that represent the desired diffusion models in the order ['attm', 'ctrw', 'fmb', 'lw', 'sbm'], so 0 for attm, 1 for ctrw, 2 for fbm, 3 for lw and 4 for sbm. Given *T, N*, *exponents* and *trajectories*, ANDI generates N trajectories of length T per exponent and per model. "
   ]
  },
  {
   "cell_type": "code",
   "execution_count": 4,
   "metadata": {},
   "outputs": [],
   "source": [
    "timesteps = 20     # Number of steps per trajectory\n",
    "N_trainset = 100     # Number of trajectories in the training set per model & per exponent\n",
    "exponents = [0.7,0.8,0.9,1]     # Anomalous exponent. Creates a dataset of size N_trajectories * T_trajectory for each exponent\n",
    "diffusion_models = [0,1]     # Models. In order: ['attm', 'ctrw', 'fbm', 'lw', 'sbm']\n",
    "load_trajectories = True   # Load trajectories"
   ]
  },
  {
   "cell_type": "markdown",
   "metadata": {},
   "source": [
    "In this example we generate 100 trajectories of length 20 for the exponents 0.7, 0.8, 0.9 and 1 for attm and ctrw, so 800 trajectories in total for the training set."
   ]
  },
  {
   "cell_type": "markdown",
   "metadata": {},
   "source": [
    "Andi allows you to save the trajectories you create, so you don't have to create new ones every time. You can specify this when calling andi.create_dataset() by passing in as argument ***save_trajectories = True*** and the path where the trajectories will be saved. The data set can be then loaded with ***load_trajectories = True***. If load_trajectories is *False*, ANDI will generate new trajectories according to the specified parameters. This is described in more detail in https://github.com/AnDiChallenge/ANDI_datasets."
   ]
  },
  {
   "cell_type": "code",
   "execution_count": 5,
   "metadata": {},
   "outputs": [],
   "source": [
    "# Creating training set\n",
    "train_dataset = ANDI.create_dataset(T = timesteps, N = N_trainset, exponents = exponents, models = diffusion_models,\n",
    "                              load_trajectories = load_trajectories, N_save = 10000, t_save = 2000, dimension = 1,\n",
    "                              path = \"andi datasets/train datasets/\")"
   ]
  },
  {
   "cell_type": "markdown",
   "metadata": {},
   "source": [
    "ANDI.create_dataset() returns a numpy array with size (N * number of exponents * number of models, T + 2). We can check the shape of both the training set:"
   ]
  },
  {
   "cell_type": "code",
   "execution_count": 6,
   "metadata": {},
   "outputs": [
    {
     "name": "stdout",
     "output_type": "stream",
     "text": [
      "(800, 22)\n"
     ]
    }
   ],
   "source": [
    "print(train_dataset.shape)"
   ]
  },
  {
   "cell_type": "markdown",
   "metadata": {},
   "source": [
    "We can see that our train set consists of 800 trajectories of length 22.\n",
    "The first two values of each trajectory correspond to the model and exponent of the trajectory, respectively:"
   ]
  },
  {
   "cell_type": "code",
   "execution_count": 7,
   "metadata": {},
   "outputs": [
    {
     "name": "stdout",
     "output_type": "stream",
     "text": [
      "[ 0.          0.7         0.          0.00282126 -0.00270548  0.0025767\n",
      " -0.00522664 -0.00462281 -0.01254097 -0.00824757]\n"
     ]
    }
   ],
   "source": [
    "print(train_dataset[0][:2])"
   ]
  },
  {
   "cell_type": "markdown",
   "metadata": {},
   "source": [
    "This trajectory is generated from the 'attm' model and its anomalous exponent is 0.7. The remaining values are the position vector of the 1D trajectory:"
   ]
  },
  {
   "cell_type": "code",
   "execution_count": null,
   "metadata": {},
   "outputs": [],
   "source": [
    "print(train_dataset[0][2:])"
   ]
  },
  {
   "cell_type": "markdown",
   "metadata": {},
   "source": [
    "Since these values (model and exponent) are not needed for training and they affect the true value of the trajectories, they are removed when we prepare the data set. This means that we are left with trajectories of length 20."
   ]
  },
  {
   "cell_type": "markdown",
   "metadata": {},
   "source": [
    "**Prepare Data set**"
   ]
  },
  {
   "cell_type": "code",
   "execution_count": 8,
   "metadata": {},
   "outputs": [],
   "source": [
    "import torch\n",
    "from utils import prepare_dataset"
   ]
  },
  {
   "cell_type": "markdown",
   "metadata": {},
   "source": [
    "Here we use the PyTorch library to work with deep neural networks. Pytorch supports GPU-accelerated tensor computing with CUDA. Before defining the model that we will train we need to convert the trajectories from numpy arrays to torch tensors. We do this by importing the function **prepare_dataset** from *utils*. This function normalizes the trajectories, shuffles them and converts them to pytorch tensors (also accepts shuffle=*False*). The function also takes into account that the first two values are for the model and the exponent, respectively. If **return_labels=*True***, the labels are returned in addition to the trajectories.\n",
    "\n",
    "It is recommended to use a GPU when training the network. Device specifies the usage of either CPU or GPU. If a GPU is available, set gpu = *True* to use it. The tensors are converted with the PyTorch function **.to()**:"
   ]
  },
  {
   "cell_type": "code",
   "execution_count": 9,
   "metadata": {},
   "outputs": [],
   "source": [
    "gpu = True \n",
    "device = torch.device('cuda' if gpu and torch.cuda.is_available() else 'cpu')   # Select GPU if available"
   ]
  },
  {
   "cell_type": "code",
   "execution_count": 10,
   "metadata": {},
   "outputs": [],
   "source": [
    "# Normalize, shuffle trajectories and convert them to pytorch tensors to be trained in device (GPU)\n",
    "trainset = prepare_dataset(train_dataset).to(device)"
   ]
  },
  {
   "cell_type": "markdown",
   "metadata": {},
   "source": [
    "If we check the shape of our new tensors we can see that the length and shape of the trajectories has been fixed:"
   ]
  },
  {
   "cell_type": "code",
   "execution_count": 11,
   "metadata": {},
   "outputs": [
    {
     "name": "stdout",
     "output_type": "stream",
     "text": [
      "torch.Size([800, 1, 20])\n"
     ]
    }
   ],
   "source": [
    "print(trainset.shape)"
   ]
  },
  {
   "cell_type": "markdown",
   "metadata": {},
   "source": [
    "<h3>Define the autoencoder model</h3>"
   ]
  },
  {
   "cell_type": "markdown",
   "metadata": {},
   "source": [
    "To define the autoencoder we start by importing the libraries that will be used to load or create the model"
   ]
  },
  {
   "cell_type": "code",
   "execution_count": 12,
   "metadata": {},
   "outputs": [],
   "source": [
    "import autoencoder\n",
    "import torch.nn as nn\n",
    "from torch.utils.data import DataLoader"
   ]
  },
  {
   "cell_type": "markdown",
   "metadata": {},
   "source": [
    "We also need to define the hyperparameters that will be used for training. Here we set the number of epochs, batch size, learning rate and weight decay."
   ]
  },
  {
   "cell_type": "code",
   "execution_count": 13,
   "metadata": {},
   "outputs": [],
   "source": [
    "epochs = 30     # Training epochs\n",
    "batch_size =  30    # Batch size\n",
    "learning_rate = 1e-3     # Learning rate\n",
    "weight_decay = 1e-4     # Weight decay"
   ]
  },
  {
   "cell_type": "markdown",
   "metadata": {},
   "source": [
    "**Data Loader**"
   ]
  },
  {
   "cell_type": "markdown",
   "metadata": {},
   "source": [
    "We use the PyTorch's **DataLoader** function to combine the dataset with a sampler that provides an iterable over the dataset. Here we pass in as arguments the batch size, a boolean called *shuffle* and the number of workers. If shuffle = *True*, the data reshuffles after each iteration (or epoch during training). The number of workers determines how many processes are used for data loading. If num_workers = 0, the data will be loaded in the main process. See https://pytorch.org/docs/stable/data.html#torch.utils.data.DataLoader for more information."
   ]
  },
  {
   "cell_type": "code",
   "execution_count": 14,
   "metadata": {},
   "outputs": [],
   "source": [
    "#Load data into dataloader\n",
    "dataloader = DataLoader(trainset, batch_size=batch_size, shuffle=True, num_workers=4)"
   ]
  },
  {
   "cell_type": "markdown",
   "metadata": {},
   "source": [
    "Now it's time to define the autoencoder. All available models inherit from the parent class **Autoencoder()**, which includes functions for training, saving and loading the models. We can see the avaiable models by calling the **show_models()** function from *autoencoder*."
   ]
  },
  {
   "cell_type": "code",
   "execution_count": 15,
   "metadata": {},
   "outputs": [
    {
     "name": "stdout",
     "output_type": "stream",
     "text": [
      "['Final_Skip_Connections', 'Longshort', 'PobleNet', 'PobleNou', 'Simple', 'Small', 'Willy', 'Winter']\n"
     ]
    }
   ],
   "source": [
    "autoencoder.show_models()"
   ]
  },
  {
   "cell_type": "markdown",
   "metadata": {},
   "source": [
    "The only mandatory argument needed to create an autoencoder is the size of the input data, in this case the length of the 1D trajectories. Additionally, the size of the latent space can be passed in as argument when the autoencoder is created, although all the models have a pre-difined size for their latent space. Other arguments accepted by some of the models include the number of channels at the output of the encoder, the output size of the global average pooling layer or a boolean called *decode*, which defines whether the output is that of the encoder or that of the decoder (this is discussed more in detail at the end of this notebook). In this example we will create an autoencoder from the class Small:"
   ]
  },
  {
   "cell_type": "code",
   "execution_count": 16,
   "metadata": {},
   "outputs": [],
   "source": [
    "# Here timesteps should be the length of the trajectories. Otherwise use trainset.shape[2]\n",
    "model = autoencoder.Small(timesteps).to(device)"
   ]
  },
  {
   "cell_type": "markdown",
   "metadata": {},
   "source": [
    "We can see the number of parameters in the network by calling **model.get_number_of_parameters()**"
   ]
  },
  {
   "cell_type": "code",
   "execution_count": 17,
   "metadata": {},
   "outputs": [
    {
     "data": {
      "text/plain": [
       "63365"
      ]
     },
     "execution_count": 17,
     "metadata": {},
     "output_type": "execute_result"
    }
   ],
   "source": [
    "model.get_number_of_parameters()"
   ]
  },
  {
   "cell_type": "markdown",
   "metadata": {},
   "source": [
    "PyTorch allows us to see the architecture of the network by calling **model.parameters**:"
   ]
  },
  {
   "cell_type": "code",
   "execution_count": 18,
   "metadata": {},
   "outputs": [
    {
     "data": {
      "text/plain": [
       "<bound method Module.parameters of Small(\n",
       "  (conv1): Conv1d(1, 16, kernel_size=(5,), stride=(1,), padding=(2,))\n",
       "  (conv2): Conv1d(16, 16, kernel_size=(3,), stride=(1,), padding=(1,))\n",
       "  (conv3): Conv1d(16, 32, kernel_size=(5,), stride=(1,), padding=(2,))\n",
       "  (conv4): Conv1d(32, 32, kernel_size=(3,), stride=(1,), padding=(1,))\n",
       "  (conv5): Conv1d(32, 64, kernel_size=(3,), stride=(1,), padding=(1,))\n",
       "  (conv6): Conv1d(64, 64, kernel_size=(3,), stride=(1,), padding=(1,))\n",
       "  (maxpool): MaxPool1d(kernel_size=2, stride=2, padding=0, dilation=1, ceil_mode=False)\n",
       "  (global_pool): AdaptiveAvgPool1d(output_size=1)\n",
       "  (bn1): BatchNorm1d(16, eps=1e-05, momentum=0.1, affine=True, track_running_stats=True)\n",
       "  (bn2): BatchNorm1d(32, eps=1e-05, momentum=0.1, affine=True, track_running_stats=True)\n",
       "  (bn3): BatchNorm1d(64, eps=1e-05, momentum=0.1, affine=True, track_running_stats=True)\n",
       "  (fc1): Linear(in_features=64, out_features=32, bias=True)\n",
       "  (fc2): Linear(in_features=32, out_features=4, bias=True)\n",
       "  (fc3): Linear(in_features=4, out_features=32, bias=True)\n",
       "  (fc4): Linear(in_features=32, out_features=320, bias=True)\n",
       "  (deconv1): ConvTranspose1d(64, 64, kernel_size=(3,), stride=(1,), padding=(1,))\n",
       "  (deconv2): ConvTranspose1d(64, 32, kernel_size=(3,), stride=(1,), padding=(1,))\n",
       "  (deconv3): ConvTranspose1d(32, 32, kernel_size=(3,), stride=(1,), padding=(1,))\n",
       "  (deconv4): ConvTranspose1d(32, 16, kernel_size=(5,), stride=(1,), padding=(2,))\n",
       "  (deconv5): ConvTranspose1d(16, 16, kernel_size=(3,), stride=(1,), padding=(1,))\n",
       "  (deconv6): ConvTranspose1d(16, 1, kernel_size=(5,), stride=(1,), padding=(2,))\n",
       "  (maxunpool): MaxUnpool1d(kernel_size=(2,), stride=(2,), padding=(0,))\n",
       ")>"
      ]
     },
     "execution_count": 18,
     "metadata": {},
     "output_type": "execute_result"
    }
   ],
   "source": [
    "model.parameters"
   ]
  },
  {
   "cell_type": "markdown",
   "metadata": {},
   "source": [
    "To change one of the layers of the encoder we can use the Pytorch class **torch.nn**, here imported as **nn**:"
   ]
  },
  {
   "cell_type": "markdown",
   "metadata": {},
   "source": [
    "```Python \n",
    "model.conv1 = nn.Conv1d(in_channels=1, out_channels=16, kernel_size=5, stride=1, padding=2)\n",
    "model.maxpool = nn.MaxPool1d(kernel_size=2, stride=2)\n",
    "model.fc1 = nn.Linear(320,32)\n",
    "etc.\n",
    "```"
   ]
  },
  {
   "cell_type": "markdown",
   "metadata": {},
   "source": [
    "To change a convolutional tranpose or a max unpooling layer in the decoder you can use the set_ConvTranspose1d() or set_MaxUnpool1d() function from **Autoencoder**. As arguments you need to pass in the input dimensions and output dimensions of the layer, as well as the layer parameters (channels, kernel size, stride and padding)."
   ]
  },
  {
   "cell_type": "markdown",
   "metadata": {},
   "source": [
    "```Python\n",
    "model.set_ConvTranspose1d(input_size=50, output_size=50, in_channels=32, out_channels=16, kernel_size=3)\n",
    "model.set_MaxUnpool1d(input_size=50, output_size=25, kernel_size=2, stride=2)\n",
    "```"
   ]
  },
  {
   "cell_type": "markdown",
   "metadata": {},
   "source": [
    "In general we don't want to modify the structure of the already defined models other than occasionally changing the size of the latent space. It is preferred to add new models or modify them directly in *autoencoder.py*"
   ]
  },
  {
   "cell_type": "markdown",
   "metadata": {},
   "source": [
    "<h3>Train the model</h3>"
   ]
  },
  {
   "cell_type": "markdown",
   "metadata": {},
   "source": [
    "Before training the model we need to define a loss function and choose our optimizer. In this case we are using Mean Squared Error (MSE) as loss and Adam as optimizer. Check PyTorch's master documentation (https://pytorch.org/docs/stable/nn.html) to see the supported loss functions and optimizers."
   ]
  },
  {
   "cell_type": "code",
   "execution_count": 19,
   "metadata": {},
   "outputs": [],
   "source": [
    "loss = nn.MSELoss()     # Define loss function\n",
    "optimizer = torch.optim.Adam(model.parameters(),weight_decay=weight_decay,lr=learning_rate)     # Choose optimizer (Adam)"
   ]
  },
  {
   "cell_type": "markdown",
   "metadata": {},
   "source": [
    "To train the model simply call **model.train_model** and pass in the required parameters: *epochs*, *dataloader*, *loss*, *optimizer* and *device*. The function also accepts a data loader for the validation set, which is not required. If we do want to use a validation set, we can pass the validation data loader as the last parameter *val_loader*. train_model will print a notifying message when the training process is complete."
   ]
  },
  {
   "cell_type": "code",
   "execution_count": 20,
   "metadata": {},
   "outputs": [
    {
     "name": "stdout",
     "output_type": "stream",
     "text": [
      "epoch [5/30], loss:1.4774\n",
      "epoch [10/30], loss:0.9918\n",
      "epoch [15/30], loss:0.8931\n",
      "epoch [20/30], loss:0.8743\n",
      "epoch [25/30], loss:0.6848\n",
      "epoch [30/30], loss:0.8883\n"
     ]
    },
    {
     "data": {
      "text/plain": [
       "'model training completed'"
      ]
     },
     "execution_count": 20,
     "metadata": {},
     "output_type": "execute_result"
    }
   ],
   "source": [
    "model.train_model(epochs, dataloader, loss, optimizer, device)"
   ]
  },
  {
   "cell_type": "markdown",
   "metadata": {},
   "source": [
    "<h3>Save the model</h3>"
   ]
  },
  {
   "cell_type": "markdown",
   "metadata": {},
   "source": [
    "To save the model it is recommended to include all the hyperparameters and other relevant parameters in a dictionary. **model.save_model** accepts two arguments: an ordered dictionary with the names and values of any relevant parameters that may be considered worth saving and the name that will be given to the trained model. **save_model** saves the length of the trajectories, the number of epochs, the dictionary with the parameters, the trained model and the loss per epoch (both for the training and validation sets) in a dictionary in disk."
   ]
  },
  {
   "cell_type": "code",
   "execution_count": 21,
   "metadata": {},
   "outputs": [],
   "source": [
    "parameters = {\n",
    "    'batch size': batch_size,\n",
    "    'learning rate': learning_rate,\n",
    "    'weight decay': weight_decay,\n",
    "    'optimizer': optim,\n",
    "    'optimizer state dict': optimizer.state_dict(),\n",
    "    'exponents': exponents,\n",
    "    'diffusion models': [(0, 'attm'), (1, 'ctrw')],\n",
    "    'training dataset size': N_trainset,\n",
    "    'loss function': 'Mean Squared Error (MSE)'\n",
    "}"
   ]
  },
  {
   "cell_type": "markdown",
   "metadata": {},
   "source": [
    "If we want to save the model and continue training it latter, we need to save the state of the optimizer in the dictionary with optimizer.state_dict(). It is important that if we want to save the state of the optimizer, its key name in the dictionary is exactly 'optimizer state dict'. This is useful for latter visualizing the parameters that we saved. Here we save the test model in the example models folder."
   ]
  },
  {
   "cell_type": "code",
   "execution_count": 22,
   "metadata": {},
   "outputs": [],
   "source": [
    "path = 'models/'\n",
    "model_name = 'example model'\n",
    "save_name = path + model_name"
   ]
  },
  {
   "cell_type": "code",
   "execution_count": 23,
   "metadata": {},
   "outputs": [
    {
     "data": {
      "text/plain": [
       "'model saved'"
      ]
     },
     "execution_count": 23,
     "metadata": {},
     "output_type": "execute_result"
    }
   ],
   "source": [
    "model.save_model(parameters, save_name)"
   ]
  },
  {
   "cell_type": "markdown",
   "metadata": {},
   "source": [
    "<h3> Load saved model </h3>"
   ]
  },
  {
   "cell_type": "code",
   "execution_count": 24,
   "metadata": {},
   "outputs": [],
   "source": [
    "import autoencoder"
   ]
  },
  {
   "cell_type": "markdown",
   "metadata": {},
   "source": [
    "To load a model we first need to create an autoencoder object  with the same architecture as the model we want to load. In case we forgot the autoencoder model or the size of the latent space, we can use the function **autoencoder.get_model**, which prints them and returns the size of the trajectories, the size after average pooling and the size of the latent space in a list:"
   ]
  },
  {
   "cell_type": "code",
   "execution_count": 25,
   "metadata": {},
   "outputs": [
    {
     "name": "stdout",
     "output_type": "stream",
     "text": [
      "autoencoder model: Small\n",
      "length of the trajectories: 20\n",
      "size of the latent space: 4\n",
      "size average pooling: 1\n"
     ]
    },
    {
     "data": {
      "text/plain": [
       "[20, 4, 1]"
      ]
     },
     "execution_count": 25,
     "metadata": {},
     "output_type": "execute_result"
    }
   ],
   "source": [
    "# path & name of the file with the trained model\n",
    "path = 'models/example models/'\n",
    "name = 'test model'\n",
    "load_name = path + name\n",
    "# this prints the autoencoder model, the size of the trajectories used for training and the size of the latent space\n",
    "autoencoder.get_model(load_name)"
   ]
  },
  {
   "cell_type": "markdown",
   "metadata": {},
   "source": [
    "Now we can create our autoencoder object and load our model with **model.load_model**:"
   ]
  },
  {
   "cell_type": "code",
   "execution_count": 26,
   "metadata": {},
   "outputs": [
    {
     "data": {
      "text/plain": [
       "'model loaded'"
      ]
     },
     "execution_count": 26,
     "metadata": {},
     "output_type": "execute_result"
    }
   ],
   "source": [
    "model = autoencoder.Small(20)\n",
    "model.load_model(load_name)"
   ]
  },
  {
   "cell_type": "markdown",
   "metadata": {},
   "source": [
    "The function *load_model* automatically loads the weights of the trained model to our *model* object. When a model is loaded, the autoencoder object automatically gets an attribute model.state_dict, which contains the dictionary with all the hyperparameters and specifications that we saved when we trained our model. To see them (excluding the state of the model with the trained parameters and the array with the loss per epoch, which may occupy too much space on screen) we can call the function **model.show_model_properties**:"
   ]
  },
  {
   "cell_type": "code",
   "execution_count": 27,
   "metadata": {},
   "outputs": [
    {
     "name": "stdout",
     "output_type": "stream",
     "text": [
      "\u001b[1mTraining hyperparameters & diffusion models specifications:\u001b[0m\n",
      "optimizer: Adam\n",
      "epochs: 30\n",
      "exponents: [0.7, 0.8, 0.9, 1]\n",
      "training dataset size: 100\n",
      "learning rate: 0.001\n",
      "latent space: 4\n",
      "weight decay: 0.0001\n",
      "autoencoder class: Small\n",
      "average pooling size: 1\n",
      "diffusion models: [(0, 'attm'), (1, 'ctrw')]\n",
      "length trajectories: 20\n",
      "batch size: 30\n",
      "minimum training loss:0.5270289591065159\n"
     ]
    }
   ],
   "source": [
    "model.show_model_properties()"
   ]
  },
  {
   "cell_type": "markdown",
   "metadata": {},
   "source": [
    "If we want to continue training a model, we need to load the state of the optimizer at the time the model was saved. To do this, we define an optimizer of the same class (example: optimizer = torch.optim.Adam(* *args*)) and we load the optimizer with **optimizer.load_state_dict(*'saved optimizer'*)**. If we saved the state of the optimizer when we saved the model, we can access it through model.model_dict['optimizer state dict']. For more information about saving and loading models in PyTorch visit https://pytorch.org/tutorials/beginner/saving_loading_models.html. "
   ]
  },
  {
   "cell_type": "code",
   "execution_count": 28,
   "metadata": {},
   "outputs": [],
   "source": [
    "#define the optimizer\n",
    "optimizer = torch.optim.Adam(model.parameters(),weight_decay=1e-4,lr=1e-3)\n",
    "#load the optimizer state dict\n",
    "optimizer.load_state_dict(model.model_dict['optimizer state dict'])"
   ]
  },
  {
   "cell_type": "markdown",
   "metadata": {},
   "source": [
    "The number of epochs is accumulative, meaning that if we saved a model that was trained for 30 epochs, and then we load it and train it again for 30 more epochs, the total number of epochs will be 60."
   ]
  },
  {
   "cell_type": "markdown",
   "metadata": {},
   "source": [
    "We can also see the loss per epoch during training in logarithmic scale by calling **model.plot_loss**. We can also pass the argument log_scale = *False* to obtain linear plot."
   ]
  },
  {
   "cell_type": "code",
   "execution_count": 29,
   "metadata": {},
   "outputs": [
    {
     "data": {
      "image/png": "[encoded data removed]",
      "text/plain": [
       "<Figure size 576x468 with 1 Axes>"
      ]
     },
     "metadata": {
      "needs_background": "light"
     },
     "output_type": "display_data"
    }
   ],
   "source": [
    "model.plot_loss()"
   ]
  },
  {
   "cell_type": "markdown",
   "metadata": {},
   "source": [
    "*Note: according to pytorch documentation, it is necessary run model.eval() to set dropout and batch normalization layers to evaluation mode before running inference, otherwise the results will be inconsistent. According to my experience this turns out to be the exact opposite, as running model.eval() would cause problems in models with dropout or batch normalization. Here by default I don't use model.eval() and I don't recommend using it if your model has any dropout or batch normalization layers.*"
   ]
  },
  {
   "cell_type": "markdown",
   "metadata": {},
   "source": [
    "Now that we have our trained model loaded we can test it with examples from the test set."
   ]
  },
  {
   "cell_type": "markdown",
   "metadata": {},
   "source": [
    "<h3>Inference with test set</h3>"
   ]
  },
  {
   "cell_type": "code",
   "execution_count": 30,
   "metadata": {},
   "outputs": [],
   "source": [
    "import andi\n",
    "from utils import prepare_dataset, do_inference, normalize\n",
    "from matplotlib import rc\n",
    "import matplotlib.pyplot as plt\n",
    "rc('font',**{'family':'sans-serif','sans-serif':['Arial']})"
   ]
  },
  {
   "cell_type": "markdown",
   "metadata": {},
   "source": [
    "We will now create our test set and check how well our autoencoder does. The length of the trajectories must be the same that was used to train the model. Here we will test a trained model from the *Final_Skip_Connections* class, trained with trajectories with anomalous exponent = 0.6 for attm, ctrw, fbm & sbm trajectories."
   ]
  },
  {
   "cell_type": "code",
   "execution_count": 31,
   "metadata": {},
   "outputs": [
    {
     "name": "stdout",
     "output_type": "stream",
     "text": [
      "autoencoder model: Final_Skip_Connections\n",
      "length of the trajectories: 200\n",
      "size of the latent space: 20\n",
      "size average pooling: 4\n"
     ]
    },
    {
     "data": {
      "text/plain": [
       "[200, 20, 4]"
      ]
     },
     "execution_count": 31,
     "metadata": {},
     "output_type": "execute_result"
    }
   ],
   "source": [
    "autoencoder.get_model('models/example models/FSC_0.6')"
   ]
  },
  {
   "cell_type": "code",
   "execution_count": 32,
   "metadata": {},
   "outputs": [
    {
     "data": {
      "text/plain": [
       "'model loaded'"
      ]
     },
     "execution_count": 32,
     "metadata": {},
     "output_type": "execute_result"
    }
   ],
   "source": [
    "model = autoencoder.Final_Skip_Connections(200, latent_space=20)\n",
    "model.load_model('models/example models/FSC_0.6')"
   ]
  },
  {
   "cell_type": "code",
   "execution_count": 33,
   "metadata": {},
   "outputs": [
    {
     "name": "stdout",
     "output_type": "stream",
     "text": [
      "\u001b[1mTraining hyperparameters & diffusion models specifications:\u001b[0m\n",
      "optimizer: Adam\n",
      "epochs: 200\n",
      "exponents: 0.6\n",
      "training dataset size: 32000\n",
      "learning rate: 0.001\n",
      "latent space: 20\n",
      "weight decay: 1e-05\n",
      "autoencoder class: Final_Skip_Connections\n",
      "average pooling size: 4\n",
      "diffusion models: [(0, 'attm'), (1, 'ctrw'), (2, 'fbm'), (4, 'sbm')]\n",
      "length trajectories: 200\n",
      "batch size: 256\n",
      "minimum training loss:0.359930721282959\n"
     ]
    }
   ],
   "source": [
    "model.show_model_properties()"
   ]
  },
  {
   "cell_type": "markdown",
   "metadata": {},
   "source": [
    "For models with batch normalization, inference must be done with at least as many trajetories as the batch size that was used to train the model, even if we only want to visualize the results with a small fraction of the data set. Otherwise the results may be faulty. In this case we can see that the batch size that was used to train the model is 256, so we need to generate at least 256 trajectories."
   ]
  },
  {
   "cell_type": "code",
   "execution_count": 34,
   "metadata": {},
   "outputs": [],
   "source": [
    "timesteps = 200     \n",
    "N_testset = 64     \n",
    "exponents = 0.8\n",
    "diffusion_models = [0,1,2,4]\n",
    "load_trajectories = True\n",
    "\n",
    "ANDI = andi.andi_datasets()\n",
    "test_dataset = ANDI.create_dataset(T = timesteps, N = N_testset, exponents = exponents, models = diffusion_models,\n",
    "                              load_trajectories = load_trajectories, N_save = 4000, t_save = 2000, dimension = 1,\n",
    "                              path = \"andi datasets/test datasets/\")\n",
    "\n",
    "#prepare tets data set for inference\n",
    "testset = prepare_dataset(test_dataset, shuffle=False)"
   ]
  },
  {
   "cell_type": "code",
   "execution_count": 35,
   "metadata": {},
   "outputs": [
    {
     "data": {
      "text/plain": [
       "torch.Size([256, 1, 200])"
      ]
     },
     "execution_count": 35,
     "metadata": {},
     "output_type": "execute_result"
    }
   ],
   "source": [
    "testset.shape"
   ]
  },
  {
   "cell_type": "markdown",
   "metadata": {},
   "source": [
    "Now we do inference with the test set:"
   ]
  },
  {
   "cell_type": "code",
   "execution_count": 36,
   "metadata": {},
   "outputs": [],
   "source": [
    "autoencoder_result = do_inference(testset, model)"
   ]
  },
  {
   "cell_type": "markdown",
   "metadata": {},
   "source": [
    "The following plots show the output of the autoencoder (orange) given an input trajectory (blue). Here we plot examples of attm, ctrw, fbm & sbm trajectories."
   ]
  },
  {
   "cell_type": "code",
   "execution_count": 37,
   "metadata": {},
   "outputs": [
    {
     "data": {
      "image/png": "[encoded data removed]",
      "text/plain": [
       "<Figure size 1080x900 with 4 Axes>"
      ]
     },
     "metadata": {
      "needs_background": "light"
     },
     "output_type": "display_data"
    }
   ],
   "source": [
    "# show inference with test example\n",
    "fig, ax = plt.subplots(2,2,figsize=(15,12.5))\n",
    "for i in range(4):\n",
    "    ax[int(i/2),i-2*int(i/2)].set_title(ANDI.avail_models_name[i+int(i/3)].upper() + ' trajectory', fontsize=24, y=1.02)\n",
    "    ax[int(i/2),i-2*int(i/2)].plot(normalize(test_dataset[i*64,2:])[0], label='input')\n",
    "    ax[int(i/2),i-2*int(i/2)].plot(autoencoder_result[i*64], label='output')\n",
    "    ax[int(i/2),0].set_ylabel('Position', fontsize=20)\n",
    "    ax[1,int(i/2)].set_xlabel('Time steps', fontsize=20)\n",
    "ax[0,0].legend(fontsize=20)\n",
    "#plt.savefig('trajectories diffusion models')"
   ]
  },
  {
   "cell_type": "markdown",
   "metadata": {},
   "source": [
    "<h3>Encode or Decode</h3>"
   ]
  },
  {
   "cell_type": "markdown",
   "metadata": {},
   "source": [
    "The model has an attribute called *decode*, which can be set to *True* or *False*. By default it is set to *True*, so that we see the output of the decoder (replicate of the input). If model.decode = *False*, the output is that of the latent space. This is useful when studying the distribution of trajectories in a 2-dimensional map by doing UMAP or PCA with the output of the latent space. To see results on this open the *results* notebook in this project."
   ]
  }
 ],
 "metadata": {
  "kernelspec": {
   "display_name": "Python 3",
   "language": "python",
   "name": "python3"
  },
  "language_info": {
   "codemirror_mode": {
    "name": "ipython",
    "version": 3
   },
   "file_extension": ".py",
   "mimetype": "text/x-python",
   "name": "python",
   "nbconvert_exporter": "python",
   "pygments_lexer": "ipython3",
   "version": "3.7.6"
  }
 },
 "nbformat": 4,
 "nbformat_minor": 4
}
